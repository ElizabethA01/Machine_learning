{
  "nbformat": 4,
  "nbformat_minor": 0,
  "metadata": {
    "colab": {
      "name": "Hidden_Markov_Model.ipynb",
      "provenance": [],
      "collapsed_sections": [],
      "authorship_tag": "ABX9TyP2JbCBBp6qDUGqU5A6ovFD",
      "include_colab_link": true
    },
    "kernelspec": {
      "name": "python3",
      "display_name": "Python 3"
    },
    "language_info": {
      "name": "python"
    }
  },
  "cells": [
    {
      "cell_type": "markdown",
      "metadata": {
        "id": "view-in-github",
        "colab_type": "text"
      },
      "source": [
        "<a href=\"https://colab.research.google.com/github/ElizabethA01/Machine_learning/blob/main/Hidden_Markov_Model.ipynb\" target=\"_parent\"><img src=\"https://colab.research.google.com/assets/colab-badge.svg\" alt=\"Open In Colab\"/></a>"
      ]
    },
    {
      "cell_type": "markdown",
      "source": [
        "**Clustering**\n",
        "\n",
        "This is the grouping of data points that are in the same group with similar properties/ features. \n",
        "\n",
        "Use of K centroids to see which data points are closest to the centroids. "
      ],
      "metadata": {
        "id": "7YAbyU6CiXbB"
      }
    },
    {
      "cell_type": "markdown",
      "source": [
        "**Hidden Markov Model**\n",
        "\n",
        "This is a finite set of states which is associated with probabilities. \n",
        "\n",
        "Uses probabilities to preduct future states or events (example weather). It focuses on the outcome or observation of the state. \n",
        "\n",
        "We need:\n",
        "\n",
        "\n",
        "*   States\n",
        "*   Observation distribution\n",
        "*   Transition distribution\n"
      ],
      "metadata": {
        "id": "4fErJxNijuWq"
      }
    },
    {
      "cell_type": "code",
      "source": [
        "%tensorflow_version 2.x\n",
        "\n",
        "import tensorflow_probability as tfp #using a different module from tensorflow for probability HM Model\n",
        "import tensorflow as tf\n",
        "\n",
        "# Cold days are encoded with 0 and hot days is encoded with 1.\n",
        "\n",
        "tfd = tfp.distributions\n",
        "initial_distribution = tfd.Categorical(probs=[0.8,0.2])\n",
        "transition_distribution = tfd.Categorical(probs=[[0.7,0.3],\n",
        "                                                 [0.2,0.8]])\n",
        "observation_distribution = tfd.Normal(loc=[0., 15.], scale=[5.,10.])\n",
        "#loc means average or mean and scale is the standard deviation\n"
      ],
      "metadata": {
        "id": "acHicVX7kwAp"
      },
      "execution_count": 2,
      "outputs": []
    },
    {
      "cell_type": "code",
      "source": [
        "model = tfd.HiddenMarkovModel(\n",
        "    initial_distribution=initial_distribution, \n",
        "    transition_distribution=transition_distribution, \n",
        "    observation_distribution=transition_distribution,\n",
        "    num_steps=7\n",
        ")"
      ],
      "metadata": {
        "id": "Seah-f9KpAAh"
      },
      "execution_count": 3,
      "outputs": []
    },
    {
      "cell_type": "code",
      "source": [
        "mean = model.mean()\n",
        "\n",
        "with tf.compat.v1.Session() as sess:\n",
        "  print(mean.numpy())"
      ],
      "metadata": {
        "id": "tK8VcwGgpwmZ"
      },
      "execution_count": null,
      "outputs": []
    }
  ]
}