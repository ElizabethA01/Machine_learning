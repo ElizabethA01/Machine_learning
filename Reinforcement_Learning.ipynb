{
  "nbformat": 4,
  "nbformat_minor": 0,
  "metadata": {
    "colab": {
      "name": "Reinforcement Learning.ipynb",
      "provenance": [],
      "authorship_tag": "ABX9TyMd1yeuYvFLf8Wwgg84C5X7",
      "include_colab_link": true
    },
    "kernelspec": {
      "name": "python3",
      "display_name": "Python 3"
    },
    "language_info": {
      "name": "python"
    }
  },
  "cells": [
    {
      "cell_type": "markdown",
      "metadata": {
        "id": "view-in-github",
        "colab_type": "text"
      },
      "source": [
        "<a href=\"https://colab.research.google.com/github/ElizabethA01/Machine_learning/blob/main/Reinforcement_Learning.ipynb\" target=\"_parent\"><img src=\"https://colab.research.google.com/assets/colab-badge.svg\" alt=\"Open In Colab\"/></a>"
      ]
    },
    {
      "cell_type": "markdown",
      "source": [
        "# **Reinforcement learning**\n",
        "\n",
        "The AI trains itself on how to play a game through trial and error to maximise the reward for the agent in an environment. \n",
        "\n",
        "Example = mario game\n",
        "\n",
        "agent = the entity that is exploring the environment e.g. character in a game\n",
        "\n",
        "environment = surrounding or level of the game\n",
        "\n",
        "state = status of the agent e.g. location of the agent \n",
        "action = interaction between agent and environment e.g. jumping \n",
        "\n",
        "reward = a reward (either positive or negative) for every action\n",
        "\n",
        "Q-learning = involves learning a matrix of action-reward values a.k.a Q-table or Q-matrix. It tells you the predicted reward for any state based on action taken.\n",
        "\n",
        "Q learning chooses its next action by either:\n",
        "randomly choosing\n",
        "\n",
        "or based on Q table"
      ],
      "metadata": {
        "id": "nGBJ-hQW51ly"
      }
    },
    {
      "cell_type": "markdown",
      "source": [
        "Open AI gym project"
      ],
      "metadata": {
        "id": "H5dU9d_8BM1w"
      }
    },
    {
      "cell_type": "code",
      "source": [
        "import gym"
      ],
      "metadata": {
        "id": "odNbiySNBDZB"
      },
      "execution_count": 1,
      "outputs": []
    },
    {
      "cell_type": "code",
      "source": [
        "env = gym.make('FrozenLake-v0') # going to use the Frozenlake environment"
      ],
      "metadata": {
        "id": "LMc8PIoPBFV1"
      },
      "execution_count": 2,
      "outputs": []
    },
    {
      "cell_type": "code",
      "source": [
        "print(env.observation_space.n) # get number of states\n",
        "print(env.action_space.n) # get number of actions"
      ],
      "metadata": {
        "colab": {
          "base_uri": "https://localhost:8080/"
        },
        "id": "NsAbPbHGBVy8",
        "outputId": "308fe738-94cd-4d1d-efa7-031f80eecdf2"
      },
      "execution_count": 3,
      "outputs": [
        {
          "output_type": "stream",
          "name": "stdout",
          "text": [
            "16\n",
            "4\n"
          ]
        }
      ]
    },
    {
      "cell_type": "code",
      "source": [
        "env.reset() # reset environment to default state"
      ],
      "metadata": {
        "colab": {
          "base_uri": "https://localhost:8080/"
        },
        "id": "3L1ZXlytBe0x",
        "outputId": "bd167450-aeea-4704-9b7f-62e54b5a827a"
      },
      "execution_count": 5,
      "outputs": [
        {
          "output_type": "execute_result",
          "data": {
            "text/plain": [
              "0"
            ]
          },
          "metadata": {},
          "execution_count": 5
        }
      ]
    },
    {
      "cell_type": "code",
      "source": [
        "action = env.action_space.sample() # get a random action \n",
        "print(action)"
      ],
      "metadata": {
        "colab": {
          "base_uri": "https://localhost:8080/"
        },
        "id": "5QB8kltKBgWZ",
        "outputId": "2e4b03c0-c5a5-4ae2-8504-2b87e7161e06"
      },
      "execution_count": 8,
      "outputs": [
        {
          "output_type": "stream",
          "name": "stdout",
          "text": [
            "2\n"
          ]
        }
      ]
    },
    {
      "cell_type": "code",
      "source": [
        "observation, reward, done, info = env.step(action) # take action, notice it return information about the action"
      ],
      "metadata": {
        "id": "Yxx4jV5XBmW4"
      },
      "execution_count": 9,
      "outputs": []
    },
    {
      "cell_type": "code",
      "source": [
        "env.render() #  render the GUI for the environment"
      ],
      "metadata": {
        "colab": {
          "base_uri": "https://localhost:8080/"
        },
        "id": "4uX4hjLXBxna",
        "outputId": "2853fce9-a166-4daf-db28-710f471f9ef1"
      },
      "execution_count": 16,
      "outputs": [
        {
          "output_type": "stream",
          "name": "stdout",
          "text": [
            "  (Right)\n",
            "SFFF\n",
            "\u001b[41mF\u001b[0mHFH\n",
            "FFFH\n",
            "HFFG\n"
          ]
        }
      ]
    },
    {
      "cell_type": "markdown",
      "source": [
        "# **Frozen Lake Environment**\n",
        "\n"
      ],
      "metadata": {
        "id": "nryHaOTzB7or"
      }
    },
    {
      "cell_type": "code",
      "source": [
        "# building the Q-table\n",
        "\n",
        "import gym\n",
        "import numpy as np\n",
        "import time\n",
        "env = gym.make('FrozenLake-v0')\n",
        "STATES = env.observation_space.n\n",
        "ACTIONS = env.action_space.n"
      ],
      "metadata": {
        "id": "K0rWxebfB1my"
      },
      "execution_count": 17,
      "outputs": []
    },
    {
      "cell_type": "code",
      "source": [
        "Q = np.zeros((STATES, ACTIONS)) # create a matrix with all 0 values\n",
        "Q"
      ],
      "metadata": {
        "colab": {
          "base_uri": "https://localhost:8080/"
        },
        "id": "DXULJZW2CX-Q",
        "outputId": "c602dcb6-6edf-4112-9de0-6a54e6dd6eaf"
      },
      "execution_count": 18,
      "outputs": [
        {
          "output_type": "execute_result",
          "data": {
            "text/plain": [
              "array([[0., 0., 0., 0.],\n",
              "       [0., 0., 0., 0.],\n",
              "       [0., 0., 0., 0.],\n",
              "       [0., 0., 0., 0.],\n",
              "       [0., 0., 0., 0.],\n",
              "       [0., 0., 0., 0.],\n",
              "       [0., 0., 0., 0.],\n",
              "       [0., 0., 0., 0.],\n",
              "       [0., 0., 0., 0.],\n",
              "       [0., 0., 0., 0.],\n",
              "       [0., 0., 0., 0.],\n",
              "       [0., 0., 0., 0.],\n",
              "       [0., 0., 0., 0.],\n",
              "       [0., 0., 0., 0.],\n",
              "       [0., 0., 0., 0.],\n",
              "       [0., 0., 0., 0.]])"
            ]
          },
          "metadata": {},
          "execution_count": 18
        }
      ]
    },
    {
      "cell_type": "code",
      "source": [
        "# define some constants\n",
        "\n",
        "EPISODES = 10000 # how many time to run the environment from the beginning\n",
        "MAX_STEPS = 100 # max no. of steps allowed for each run of environment\n",
        "\n",
        "LEARNING_RATE = 0.81 # learning rate. the higher it is, the faster it runs\n",
        "GAMMA = 0.96"
      ],
      "metadata": {
        "id": "0848I24yCgk6"
      },
      "execution_count": 19,
      "outputs": []
    },
    {
      "cell_type": "code",
      "source": [
        "# Picking an action\n",
        "\n",
        "epsilon = 0.9 # start with a 90% chance of picking a random action\n",
        "\n",
        "# code to pick action\n",
        "if np.random.uniform(0, 1) < epsilon: # check if a randomly selected value is less than epsilon\n",
        "  action = env.action_space.sample()\n",
        "else:\n",
        "  action = np.argmax(Q,[state, ]) # use Q table to pick best action based on current values\n"
      ],
      "metadata": {
        "id": "61ammWqlIuIt"
      },
      "execution_count": 25,
      "outputs": []
    },
    {
      "cell_type": "code",
      "source": [
        "# updating Q values\n",
        "Q[state, action] = Q[state, action] + LEARNING_RATE * (reward + GAMMA + np.max(Q[new_state, ]) - Q [state, action])"
      ],
      "metadata": {
        "id": "689aFzTPJOgu"
      },
      "execution_count": null,
      "outputs": []
    },
    {
      "cell_type": "code",
      "source": [
        "RENDER = False \n",
        "\n",
        "rewards = []\n",
        "for episode in range(EPISODES):\n",
        "  state = env.reset()\n",
        "  for _ in range(MAX_STEPS):\n",
        "    \n",
        "    if RENDER:\n",
        "      env.render()\n",
        "    if np.random.uniform(0,1) < epsilon:\n",
        "      action = np.argmax(Q[state,])\n",
        "    \n",
        "    next_state, reward, done, _ = env.step(action)\n",
        "    Q[state, action] = Q[state, action] + LEARNING_RATE * (reward + GAMMA + np.max(Q[new_state, ]) - Q [state, action])\n",
        "\n",
        "    state = next_state\n",
        "\n",
        "    if done:\n",
        "      rewards.append(reward)\n",
        "      epsilon -= 0.001\n",
        "      break # reached goal\n",
        "\n",
        "print(Q)\n",
        "print(f'Average reward is: {sum(rewards)/len(rewards)}:')\n",
        "\n",
        "#and now we can see our Q values!"
      ],
      "metadata": {
        "colab": {
          "base_uri": "https://localhost:8080/",
          "height": 262
        },
        "id": "MkMtArNNJ1ya",
        "outputId": "d51248e9-178f-4339-b920-79fc5b97f347"
      },
      "execution_count": 33,
      "outputs": [
        {
          "output_type": "error",
          "ename": "NameError",
          "evalue": "ignored",
          "traceback": [
            "\u001b[0;31m---------------------------------------------------------------------------\u001b[0m",
            "\u001b[0;31mNameError\u001b[0m                                 Traceback (most recent call last)",
            "\u001b[0;32m<ipython-input-33-4b66dd095531>\u001b[0m in \u001b[0;36m<module>\u001b[0;34m()\u001b[0m\n\u001b[1;32m     12\u001b[0m \u001b[0;34m\u001b[0m\u001b[0m\n\u001b[1;32m     13\u001b[0m     \u001b[0mnext_state\u001b[0m\u001b[0;34m,\u001b[0m \u001b[0mreward\u001b[0m\u001b[0;34m,\u001b[0m \u001b[0mdone\u001b[0m\u001b[0;34m,\u001b[0m \u001b[0m_\u001b[0m \u001b[0;34m=\u001b[0m \u001b[0menv\u001b[0m\u001b[0;34m.\u001b[0m\u001b[0mstep\u001b[0m\u001b[0;34m(\u001b[0m\u001b[0maction\u001b[0m\u001b[0;34m)\u001b[0m\u001b[0;34m\u001b[0m\u001b[0;34m\u001b[0m\u001b[0m\n\u001b[0;32m---> 14\u001b[0;31m     \u001b[0mQ\u001b[0m\u001b[0;34m[\u001b[0m\u001b[0mstate\u001b[0m\u001b[0;34m,\u001b[0m \u001b[0maction\u001b[0m\u001b[0;34m]\u001b[0m \u001b[0;34m=\u001b[0m \u001b[0mQ\u001b[0m\u001b[0;34m[\u001b[0m\u001b[0mstate\u001b[0m\u001b[0;34m,\u001b[0m \u001b[0maction\u001b[0m\u001b[0;34m]\u001b[0m \u001b[0;34m+\u001b[0m \u001b[0mLEARNING_RATE\u001b[0m \u001b[0;34m*\u001b[0m \u001b[0;34m(\u001b[0m\u001b[0mreward\u001b[0m \u001b[0;34m+\u001b[0m \u001b[0mGAMMA\u001b[0m \u001b[0;34m+\u001b[0m \u001b[0mnp\u001b[0m\u001b[0;34m.\u001b[0m\u001b[0mmax\u001b[0m\u001b[0;34m(\u001b[0m\u001b[0mQ\u001b[0m\u001b[0;34m[\u001b[0m\u001b[0mnew_state\u001b[0m\u001b[0;34m,\u001b[0m \u001b[0;34m]\u001b[0m\u001b[0;34m)\u001b[0m \u001b[0;34m-\u001b[0m \u001b[0mQ\u001b[0m \u001b[0;34m[\u001b[0m\u001b[0mstate\u001b[0m\u001b[0;34m,\u001b[0m \u001b[0maction\u001b[0m\u001b[0;34m]\u001b[0m\u001b[0;34m)\u001b[0m\u001b[0;34m\u001b[0m\u001b[0;34m\u001b[0m\u001b[0m\n\u001b[0m\u001b[1;32m     15\u001b[0m \u001b[0;34m\u001b[0m\u001b[0m\n\u001b[1;32m     16\u001b[0m     \u001b[0mstate\u001b[0m \u001b[0;34m=\u001b[0m \u001b[0mnext_state\u001b[0m\u001b[0;34m\u001b[0m\u001b[0;34m\u001b[0m\u001b[0m\n",
            "\u001b[0;31mNameError\u001b[0m: name 'new_state' is not defined"
          ]
        }
      ]
    },
    {
      "cell_type": "code",
      "source": [
        "# we can plot the training progres and see how the agent improved\n",
        "\n",
        "import matplotlib.pyplot as plt\n",
        "\n",
        "def get_average(values):\n",
        "  return sum(values)/len(values)\n",
        "\n",
        "avg_rewards = []\n",
        "for i in range(0, len(rewards), 100):\n",
        "    avg_rewards.append(get_average(rewards[i:i+100]))\n",
        "\n",
        "\n",
        "plt.plot(avg_rewards)\n",
        "plt.ylabel('average reward')\n",
        "plt.xlabel('episodes (100\\'s)')\n",
        "plt.show()"
      ],
      "metadata": {
        "colab": {
          "base_uri": "https://localhost:8080/",
          "height": 279
        },
        "id": "zUUqT852LDN1",
        "outputId": "770faf97-fa0b-4d22-99d2-f5defdcc7c1d"
      },
      "execution_count": 32,
      "outputs": [
        {
          "output_type": "display_data",
          "data": {
            "image/png": "[encoded data removed]",
            "text/plain": [
              "<Figure size 432x288 with 1 Axes>"
            ]
          },
          "metadata": {
            "needs_background": "light"
          }
        }
      ]
    },
    {
      "cell_type": "code",
      "source": [
        ""
      ],
      "metadata": {
        "id": "fTKXJtLJMGDx"
      },
      "execution_count": null,
      "outputs": []
    }
  ]
}